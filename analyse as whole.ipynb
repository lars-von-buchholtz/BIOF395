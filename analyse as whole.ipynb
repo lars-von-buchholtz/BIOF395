{
 "cells": [
  {
   "cell_type": "markdown",
   "metadata": {},
   "source": [
    "## Exploratory Analysis of the 'taste' abstract corpus\n",
    "\n",
    "This part of the analysis is purely exploratory and not required for the rest of the project."
   ]
  },
  {
   "cell_type": "code",
   "execution_count": 1,
   "metadata": {
    "collapsed": true
   },
   "outputs": [],
   "source": [
    "import sys, numpy, math, sqlite3\n",
    "\n",
    "sys.path.append('/Library/Frameworks/Python.framework/Versions/3.6/lib/python3.6/site-packages')\n",
    "from nltk.corpus import stopwords\n",
    "from nltk import ngrams\n",
    "from nltk.stem.porter import *"
   ]
  },
  {
   "cell_type": "code",
   "execution_count": 24,
   "metadata": {
    "collapsed": true
   },
   "outputs": [],
   "source": [
    "## get all pmids from database\n",
    "def getallpmids(database):\n",
    "\n",
    "    conn = sqlite3.connect(database)\n",
    "    c = conn.cursor()\n",
    "    c.execute('''SELECT pmid FROM articles''')\n",
    "    pmids = c.fetchall()\n",
    "    conn.close()\n",
    "    return pmids\n",
    "\n",
    "## get all pmids from database and write them to textfile\n",
    "def writeallpmidstofile(database,filename):\n",
    "    idlist = getallpmids(database)\n",
    "    with open(filename, 'w') as idfile:\n",
    "        for item in idlist:\n",
    "            idfile.write(\"%s\\n\" % item)\n",
    "\n",
    "def readpmidsfromfile(filename):\n",
    "    with open(filename) as f:\n",
    "        lines = f.read().splitlines()\n",
    "    return lines\n",
    "\n",
    "## get all pmids from database and write them to textfile\n",
    "def writeallpmidstofile(database,filename):\n",
    "    idlist = getallpmids(database)\n",
    "    with open(filename, 'w') as idfile:\n",
    "        for item in idlist:\n",
    "            idfile.write(\"%s\\n\" % item)\n",
    "\n",
    "def readpmidsfromfile(filename):\n",
    "    with open(filename) as f:\n",
    "        lines = f.read().splitlines()\n",
    "    return lines\n",
    "\n",
    "def tokenize(text):\n",
    "    import nltk\n",
    "    import re\n",
    "    # first tokenize by sentence, then by word to ensure that punctuation is caught as it's own token\n",
    "    tokens = [word.lower() for sent in nltk.sent_tokenize(text) for word in nltk.word_tokenize(sent)]\n",
    "    filtered_tokens = []\n",
    "    \n",
    "    # filter out non-letter characters (e.g., numeric tokens, raw punctuation)\n",
    "    for i,token in enumerate(tokens):\n",
    "        tokens[i] = re.sub('[^a-zA-Z]', '', token)\n",
    "        \n",
    "    ## remove strings with one letter or less\n",
    "    filtered_tokens = [i for i in tokens if len(i) > 1]\n",
    "    \n",
    "    \n",
    "    return filtered_tokens\n",
    "\n",
    "## from a list of ids concatenate all titles and abstracts from database taste.db as one word list\n",
    "def catabstracts(idlist):\n",
    "\n",
    "    conn = sqlite3.connect('taste.db')\n",
    "    c = conn.cursor()\n",
    "\n",
    "    alltokenized = []\n",
    "\n",
    "    for pmid in idlist:\n",
    "        c.execute('''SELECT title,abstract FROM articles WHERE pmid = (?)''', (pmid,))\n",
    "        result = c.fetchone()\n",
    "        result = \" \".join(result)\n",
    "        alltokenized.extend(tokenize(result))\n",
    "\n",
    "    conn.close()\n",
    "    return alltokenized\n",
    "\n",
    "def stem_tokens(tokens, stemmer):\n",
    "    stemmed = []\n",
    "    for item in tokens:\n",
    "        try:\n",
    "            stemmed.append(stemmer.stem(item))\n",
    "        except:\n",
    "            print(item, \"failed\")\n",
    "    return stemmed\n"
   ]
  },
  {
   "cell_type": "code",
   "execution_count": 10,
   "metadata": {
    "collapsed": false
   },
   "outputs": [],
   "source": [
    "allpmids = readpmidsfromfile('allpmids.txt')\n",
    "alltokenized = catabstracts(allpmids)"
   ]
  },
  {
   "cell_type": "code",
   "execution_count": 20,
   "metadata": {
    "collapsed": false
   },
   "outputs": [],
   "source": [
    "regex = re.compile('[^a-zA-Z]')\n",
    "for token in alltokenized:\n",
    "    regex.sub('',token)\n",
    "alltokenized = [i for i in alltokenized if len(i) > 1] \n"
   ]
  },
  {
   "cell_type": "code",
   "execution_count": 25,
   "metadata": {
    "collapsed": false
   },
   "outputs": [
    {
     "name": "stdout",
     "output_type": "stream",
     "text": [
      "aeds failed\n",
      "aeds failed\n",
      "aeds failed\n",
      "aed failed\n",
      "aeds failed\n"
     ]
    }
   ],
   "source": [
    "filtered = [w for w in alltokenized if not w in stopwords.words('english')]\n",
    "\n",
    "stemmer = PorterStemmer()\n",
    "stemmed = stem_tokens(filtered, stemmer)\n",
    "mystopwords = ['aim','study,','purpose','objective','results','present','evaluate','determine','investigate','known','important','role','basis','significant','difference','discussed','terms','found','effect','using','associated','suggest','presence','order','discussion','background','introduction','method']\n",
    "mystopwords = stem_tokens(mystopwords,stemmer)"
   ]
  },
  {
   "cell_type": "code",
   "execution_count": 26,
   "metadata": {
    "collapsed": false
   },
   "outputs": [],
   "source": [
    "mystopwords = ['aim','study,','purpose','objective','results','present','evaluate','determine','investigate','known','important','role','basis','significant','difference','discussed','terms','found','effect','using','associated','suggest','presence','order','discussion','background','introduction','method']\n",
    "mystopwords = stem_tokens(mystopwords,stemmer)"
   ]
  },
  {
   "cell_type": "code",
   "execution_count": 28,
   "metadata": {
    "collapsed": false
   },
   "outputs": [],
   "source": [
    "stemmed = [w for w in stemmed if not w in mystopwords]\n"
   ]
  },
  {
   "cell_type": "code",
   "execution_count": 31,
   "metadata": {
    "collapsed": false
   },
   "outputs": [],
   "source": [
    "import nltk\n",
    "text = nltk.Text(stemmed)"
   ]
  },
  {
   "cell_type": "code",
   "execution_count": 32,
   "metadata": {
    "collapsed": true
   },
   "outputs": [],
   "source": [
    "bigrams = ngrams(text, 2)\n",
    "trigrams = ngrams(text, 3)\n",
    "tetragrams = ngrams(text, 4)\n",
    "pentagrams = ngrams(text, 5)\n"
   ]
  },
  {
   "cell_type": "code",
   "execution_count": 35,
   "metadata": {
    "collapsed": false
   },
   "outputs": [],
   "source": [
    "from nltk import FreqDist\n",
    "fdist1 = FreqDist(text)\n",
    "fdist2 = FreqDist(bigrams)\n",
    "fdist3 = FreqDist(trigrams)\n",
    "fdist4 = FreqDist(tetragrams)\n",
    "fdist5 = FreqDist(pentagrams)"
   ]
  },
  {
   "cell_type": "code",
   "execution_count": 42,
   "metadata": {
    "collapsed": false
   },
   "outputs": [
    {
     "data": {
      "text/plain": [
       "[('tast', 52108),\n",
       " ('studi', 20741),\n",
       " ('food', 17850),\n",
       " ('rat', 15521),\n",
       " ('respons', 15292),\n",
       " ('cell', 13588),\n",
       " ('increas', 12381),\n",
       " ('condit', 12025),\n",
       " ('sensori', 11544),\n",
       " ('receptor', 11502),\n",
       " ('acid', 11265),\n",
       " ('patient', 10968),\n",
       " ('test', 10783),\n",
       " ('activ', 10673),\n",
       " ('show', 9475),\n",
       " ('prefer', 9173),\n",
       " ('avers', 9041),\n",
       " ('intak', 8993),\n",
       " ('group', 8861),\n",
       " ('also', 8686),\n",
       " ('concentr', 8504),\n",
       " ('control', 8462),\n",
       " ('may', 8226),\n",
       " ('function', 8067),\n",
       " ('flavor', 7947),\n",
       " ('sweet', 7587),\n",
       " ('two', 7572),\n",
       " ('experi', 7569),\n",
       " ('treatment', 7515),\n",
       " ('water', 7501),\n",
       " ('product', 7409),\n",
       " ('bitter', 7401),\n",
       " ('compar', 7333),\n",
       " ('solut', 7296),\n",
       " ('level', 7080),\n",
       " ('qualiti', 7036),\n",
       " ('chang', 7032),\n",
       " ('develop', 6897),\n",
       " ('neuron', 6602),\n",
       " ('compound', 6542),\n",
       " ('system', 6493),\n",
       " ('protein', 6458),\n",
       " ('process', 6392),\n",
       " ('sucros', 6369),\n",
       " ('behavior', 6315),\n",
       " ('gustatori', 6237),\n",
       " ('oral', 6103),\n",
       " ('howev', 5937),\n",
       " ('express', 5818),\n",
       " ('day', 5807)]"
      ]
     },
     "execution_count": 42,
     "metadata": {},
     "output_type": "execute_result"
    }
   ],
   "source": [
    "fdist1.most_common(50)"
   ]
  },
  {
   "cell_type": "code",
   "execution_count": 43,
   "metadata": {
    "collapsed": false
   },
   "outputs": [
    {
     "data": {
      "text/plain": [
       "[(('tast', 'bud'), 5306),\n",
       " (('tast', 'avers'), 4051),\n",
       " (('tast', 'receptor'), 2989),\n",
       " (('condit', 'tast'), 2827),\n",
       " (('bitter', 'tast'), 2402),\n",
       " (('tast', 'cell'), 2120),\n",
       " (('amino', 'acid'), 2034),\n",
       " (('food', 'intak'), 2025),\n",
       " (('sweet', 'tast'), 1990),\n",
       " (('fatti', 'acid'), 1718),\n",
       " (('chorda', 'tympani'), 1369),\n",
       " (('receptor', 'cell'), 1141),\n",
       " (('tast', 'stimuli'), 1006),\n",
       " (('tast', 'percept'), 997),\n",
       " (('fungiform', 'papilla'), 967),\n",
       " (('bodi', 'weight'), 967),\n",
       " (('tast', 'respons'), 934),\n",
       " (('sensori', 'properti'), 813),\n",
       " (('studi', 'examin'), 809),\n",
       " (('tast', 'prefer'), 772),\n",
       " (('tast', 'smell'), 770),\n",
       " (('sensori', 'attribut'), 749),\n",
       " (('tast', 'qualiti'), 738),\n",
       " (('tast', 'sensit'), 724),\n",
       " (('oral', 'caviti'), 722),\n",
       " (('citric', 'acid'), 715),\n",
       " (('avers', 'cta'), 714),\n",
       " (('sensori', 'characterist'), 712),\n",
       " (('qualiti', 'life'), 705),\n",
       " (('volatil', 'compound'), 696),\n",
       " (('sucros', 'solut'), 682),\n",
       " (('sodium', 'chlorid'), 678),\n",
       " (('sensori', 'qualiti'), 672),\n",
       " (('drink', 'water'), 655),\n",
       " (('nerv', 'fiber'), 644),\n",
       " (('umami', 'tast'), 633),\n",
       " (('bud', 'cell'), 629),\n",
       " (('significantli', 'higher'), 609),\n",
       " (('compar', 'control'), 604),\n",
       " (('smell', 'tast'), 592),\n",
       " (('tympani', 'nerv'), 591),\n",
       " (('nervou', 'system'), 583),\n",
       " (('control', 'group'), 577),\n",
       " (('lactic', 'acid'), 571),\n",
       " (('solitari', 'tract'), 571),\n",
       " (('saccharin', 'solut'), 569),\n",
       " (('avers', 'learn'), 555),\n",
       " (('sensori', 'analysi'), 555),\n",
       " (('insular', 'cortex'), 551),\n",
       " (('lithium', 'chlorid'), 542)]"
      ]
     },
     "execution_count": 43,
     "metadata": {},
     "output_type": "execute_result"
    }
   ],
   "source": [
    "fdist2.most_common(50)"
   ]
  },
  {
   "cell_type": "code",
   "execution_count": 39,
   "metadata": {
    "collapsed": false
   },
   "outputs": [
    {
     "data": {
      "text/plain": [
       "[(('condit', 'tast', 'avers'), 2530),\n",
       " (('tast', 'receptor', 'cell'), 751),\n",
       " (('tast', 'avers', 'cta'), 707),\n",
       " (('tast', 'bud', 'cell'), 602),\n",
       " (('chorda', 'tympani', 'nerv'), 588),\n",
       " (('bitter', 'tast', 'receptor'), 576),\n",
       " (('nucleu', 'solitari', 'tract'), 515),\n",
       " (('tast', 'avers', 'learn'), 402),\n",
       " (('sweet', 'tast', 'receptor'), 392),\n",
       " (('lactic', 'acid', 'bacteria'), 367),\n",
       " (('central', 'nervou', 'system'), 326),\n",
       " (('princip', 'compon', 'analysi'), 253),\n",
       " (('head', 'neck', 'cancer'), 251),\n",
       " (('cell', 'tast', 'bud'), 242),\n",
       " (('abstract', 'truncat', 'word'), 234),\n",
       " (('magnet', 'reson', 'imag'), 228),\n",
       " (('free', 'fatti', 'acid'), 221),\n",
       " (('free', 'amino', 'acid'), 213),\n",
       " (('type', 'iii', 'cell'), 192),\n",
       " (('condit', 'stimulu', 'cs'), 191),\n",
       " (('scan', 'electron', 'microscopi'), 190),\n",
       " (('fatti', 'acid', 'composit'), 180),\n",
       " (('bodi', 'mass', 'index'), 180),\n",
       " (('condit', 'tast', 'avoid'), 178),\n",
       " (('transient', 'receptor', 'potenti'), 171),\n",
       " (('monosodium', 'glutam', 'msg'), 169),\n",
       " (('lithium', 'chlorid', 'licl'), 164),\n",
       " (('four', 'basic', 'tast'), 158),\n",
       " (('tast', 'receptor', 'gene'), 157),\n",
       " (('intak', 'bodi', 'weight'), 155),\n",
       " (('chorda', 'tympani', 'ct'), 154),\n",
       " (('ga', 'chromatography-mass', 'spectrometri'), 150),\n",
       " (('reduc', 'food', 'intak'), 149),\n",
       " (('oral', 'disintegr', 'tablet'), 149),\n",
       " (('burn', 'mouth', 'syndrom'), 148),\n",
       " (('tast', 'avers', 'rat'), 145),\n",
       " (('type', 'ii', 'cell'), 145),\n",
       " (('function', 'magnet', 'reson'), 145),\n",
       " (('tast', 'avers', 'condit'), 144),\n",
       " (('virgin', 'oliv', 'oil'), 142),\n",
       " (('parkinson', \"'s\", 'diseas'), 139),\n",
       " (('condit', 'place', 'prefer'), 139),\n",
       " (('papilla', 'tast', 'bud'), 138),\n",
       " (('polyunsatur', 'fatti', 'acid'), 137),\n",
       " (('tast', 'avers', 'paradigm'), 136),\n",
       " (('two-bottl', 'prefer', 'test'), 135),\n",
       " (('uncondit', 'stimulu', 'us'), 135),\n",
       " (('innerv', 'tast', 'bud'), 132),\n",
       " (('mean', 'age', 'year'), 132),\n",
       " (('fungiform', 'tast', 'bud'), 125)]"
      ]
     },
     "execution_count": 39,
     "metadata": {},
     "output_type": "execute_result"
    }
   ],
   "source": [
    "fdist3.most_common(50)"
   ]
  },
  {
   "cell_type": "code",
   "execution_count": 40,
   "metadata": {
    "collapsed": false
   },
   "outputs": [
    {
     "data": {
      "text/plain": [
       "[(('condit', 'tast', 'avers', 'cta'), 701),\n",
       " (('function', 'magnet', 'reson', 'imag'), 139),\n",
       " (('condit', 'tast', 'avers', 'rat'), 113),\n",
       " (('food', 'intak', 'bodi', 'weight'), 112),\n",
       " (('condit', 'tast', 'avers', 'paradigm'), 103),\n",
       " (('nucleu', 'solitari', 'tract', 'nst'), 98),\n",
       " (('acquisit', 'condit', 'tast', 'avers'), 89),\n",
       " (('produc', 'condit', 'tast', 'avers'), 87),\n",
       " (('induc', 'condit', 'tast', 'avers'), 87),\n",
       " (('lactic', 'acid', 'bacteria', 'lab'), 83),\n",
       " (('extinct', 'condit', 'tast', 'avers'), 82),\n",
       " (('ethanol-induc', 'condit', 'tast', 'avers'), 75),\n",
       " (('princip', 'compon', 'analysi', 'pca'), 75),\n",
       " (('sweet', 'salti', 'sour', 'bitter'), 74),\n",
       " (('tast', 'avers', 'cta', 'paradigm'), 73),\n",
       " (('rostral', 'nucleu', 'solitari', 'tract'), 72),\n",
       " (('nucleu', 'solitari', 'tract', 'nt'), 72),\n",
       " (('condit', 'tast', 'avers', 'learn'), 68),\n",
       " (('bitter', 'tast', 'receptor', 'gene'), 68),\n",
       " (('von', 'ebner', \"'s\", 'gland'), 67),\n",
       " (('bodi', 'mass', 'index', 'bmi'), 67),\n",
       " (('condit', 'tast', 'avers', 'procedur'), 66),\n",
       " (('chorda', 'tympani', 'ct', 'nerv'), 65),\n",
       " (('tast', 'receptor', 'cell', 'trc'), 65),\n",
       " (('neuron', 'nucleu', 'solitari', 'tract'), 64),\n",
       " (('condit', 'tast', 'avers', 'induc'), 64),\n",
       " (('magnet', 'reson', 'imag', 'fmri'), 64),\n",
       " (('human', 'bitter', 'tast', 'receptor'), 64),\n",
       " (('patient', 'head', 'neck', 'cancer'), 63),\n",
       " (('aroma', 'extract', 'dilut', 'analysi'), 62),\n",
       " (('head', 'neck', 'cancer', 'patient'), 61),\n",
       " (('e.', 'coli', 'o157', 'h7'), 61),\n",
       " (('four', 'basic', 'tast', 'stimuli'), 59),\n",
       " (('chorda', 'tympani', 'nerv', 'respons'), 59),\n",
       " (('escherichia', 'coli', 'o157', 'h7'), 59),\n",
       " (('brain-deriv', 'neurotroph', 'factor', 'bdnf'), 59),\n",
       " (('partial', 'least', 'squar', 'regress'), 56),\n",
       " (('bitter', 'tast', 'receptor', 'tas2r'), 56),\n",
       " (('respons', 'chorda', 'tympani', 'nerv'), 53),\n",
       " (('rat', 'condit', 'tast', 'avers'), 53),\n",
       " (('oral', 'disintegr', 'tablet', 'odt'), 52),\n",
       " (('sweet', 'sour', 'salti', 'bitter'), 51),\n",
       " (('transient', 'receptor', 'potenti', 'trp'), 51),\n",
       " (('chorda', 'tympani', 'glossopharyng', 'nerv'), 50),\n",
       " (('burn', 'mouth', 'syndrom', 'bm'), 50),\n",
       " (('channel', 'catfish', 'ictaluru', 'punctatu'), 49),\n",
       " (('bitter', 'tast', 'receptor', 't2r'), 49),\n",
       " (('extra', 'virgin', 'oliv', 'oil'), 48),\n",
       " (('tast', 'bud', 'tast', 'bud'), 47),\n",
       " (('central', 'nervou', 'system', 'cn'), 47)]"
      ]
     },
     "execution_count": 40,
     "metadata": {},
     "output_type": "execute_result"
    }
   ],
   "source": [
    "fdist4.most_common(50)"
   ]
  },
  {
   "cell_type": "code",
   "execution_count": 41,
   "metadata": {
    "collapsed": false
   },
   "outputs": [
    {
     "data": {
      "text/plain": [
       "[(('condit', 'tast', 'avers', 'cta', 'paradigm'), 71),\n",
       " (('function', 'magnet', 'reson', 'imag', 'fmri'), 64),\n",
       " (('condit', 'tast', 'avers', 'cta', 'learn'), 35),\n",
       " (('latent', 'inhibit', 'condit', 'tast', 'avers'), 35),\n",
       " (('acquisit', 'condit', 'tast', 'avers', 'cta'), 33),\n",
       " (('aroma', 'extract', 'dilut', 'analysi', 'aeda'), 30),\n",
       " (('induc', 'condit', 'tast', 'avers', 'cta'), 28),\n",
       " (('transient', 'receptor', 'potenti', 'trp', 'channel'), 24),\n",
       " (('reduc', 'food', 'intak', 'bodi', 'weight'), 23),\n",
       " (('condit', 'tast', 'avers', 'cta', 'rat'), 21),\n",
       " (('thiobarbitur', 'acid', 'reactiv', 'substanc', 'tbar'), 21),\n",
       " (('tast', 'bud', 'rat', 'circumval', 'papilla'), 20),\n",
       " (('condit', 'tast', 'avers', 'cta', 'procedur'), 19),\n",
       " (('receptor', 'potenti', 'frog', 'tast', 'cell'), 19),\n",
       " (('tast', 'sweet', 'salti', 'sour', 'bitter'), 19),\n",
       " (('high', 'perform', 'liquid', 'chromatographi', 'hplc'), 19),\n",
       " (('univers', 'pennsylvania', 'smell', 'identif', 'test'), 19),\n",
       " (('rostral', 'nucleu', 'solitari', 'tract', 'rnst'), 19),\n",
       " (('acut', 'bacteri', 'exacerb', 'chronic', 'bronchiti'), 19),\n",
       " (('condit', 'tast', 'avers', 'cta', 'studi'), 18),\n",
       " (('gustatori', 'zone', 'nucleu', 'solitari', 'tract'), 18),\n",
       " (('rat', 'condit', 'tast', 'avers', 'cta'), 18),\n",
       " (('neural', 'cell', 'adhes', 'molecul', 'ncam'), 18),\n",
       " (('sodium', 'chlorid', 'citric', 'acid', 'quinin'), 17),\n",
       " (('format', 'condit', 'tast', 'avers', 'cta'), 17),\n",
       " (('condit', 'tast', 'avers', 'cta', 'induc'), 17),\n",
       " (('condit', 'tast', 'avers', 'learn', 'rat'), 16),\n",
       " (('chronic', 'obstruct', 'pulmonari', 'diseas', 'copd'), 16),\n",
       " (('neuron', 'nucleu', 'solitari', 'tract', 'nst'), 15),\n",
       " (('ethanol-induc', 'condit', 'tast', 'avers', 'cta'), 15),\n",
       " (('fear', 'condit', 'condit', 'tast', 'avers'), 15),\n",
       " (('partial', 'least', 'squar', 'pl', 'regress'), 15),\n",
       " (('sucros', 'nacl', 'citric', 'acid', 'quinin'), 14),\n",
       " (('sucros', 'sodium', 'chlorid', 'citric', 'acid'), 14),\n",
       " (('cs-', 'pair', 'ig', 'water', 'infus'), 14),\n",
       " (('condit', 'tast', 'avers', 'cta', 'test'), 14),\n",
       " (('condit', 'tast', 'avers', 'cta', 'saccharin'), 14),\n",
       " (('condit', 'tast', 'avers', 'cta', 'experi'), 14),\n",
       " (('gustatori', 'neuron', 'nucleu', 'solitari', 'tract'), 14),\n",
       " (('produc', 'condit', 'tast', 'avers', 'cta'), 14),\n",
       " (('total', 'volatil', 'basic', 'nitrogen', 'tvb-n'), 14),\n",
       " (('m.', 'longissimu', 'thoraci', 'et', 'lumborum'), 14),\n",
       " (('studi', 'condit', 'tast', 'avers', 'cta'), 13),\n",
       " (('qualiti', 'sweet', 'sour', 'salti', 'bitter'), 13),\n",
       " (('food', 'intak', 'bodi', 'weight', 'gain'), 13),\n",
       " (('acquir', 'condit', 'tast', 'avers', 'cta'), 13),\n",
       " (('lingual', 'papilla', 'connect', 'tissu', 'core'), 13),\n",
       " (('condit', 'tast', 'avers', 'cta', 'memori'), 13),\n",
       " (('sweet', 'salti', 'sour', 'bitter', 'umami'), 13),\n",
       " (('retriev', 'condit', 'tast', 'avers', 'cta'), 12)]"
      ]
     },
     "execution_count": 41,
     "metadata": {},
     "output_type": "execute_result"
    }
   ],
   "source": [
    "fdist5.most_common(50)"
   ]
  },
  {
   "cell_type": "code",
   "execution_count": 44,
   "metadata": {
    "collapsed": false
   },
   "outputs": [
    {
     "name": "stdout",
     "output_type": "stream",
     "text": [
      "tast bud; chorda tympani; amino acid; tast avers; fatti acid;\n",
      "fungiform papilla; tast receptor; food intak; bitter tast; condit\n",
      "tast; bodi weight; solitari tract; oral caviti; shelf life; sweet\n",
      "tast; citric acid; lithium chlorid; insular cortex; sodium chlorid;\n",
      "head neck\n"
     ]
    }
   ],
   "source": [
    "text.collocations()"
   ]
  },
  {
   "cell_type": "code",
   "execution_count": null,
   "metadata": {
    "collapsed": true
   },
   "outputs": [],
   "source": []
  }
 ],
 "metadata": {
  "kernelspec": {
   "display_name": "Python 3",
   "language": "python",
   "name": "python3"
  },
  "language_info": {
   "codemirror_mode": {
    "name": "ipython",
    "version": 3
   },
   "file_extension": ".py",
   "mimetype": "text/x-python",
   "name": "python",
   "nbconvert_exporter": "python",
   "pygments_lexer": "ipython3",
   "version": "3.6.0"
  }
 },
 "nbformat": 4,
 "nbformat_minor": 2
}
