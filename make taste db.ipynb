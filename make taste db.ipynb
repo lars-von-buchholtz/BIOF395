{
 "cells": [
  {
   "cell_type": "markdown",
   "metadata": {},
   "source": [
    "## Download and parse all Pubmed abstracts with the search term 'taste'\n",
    "\n",
    "The following functions are defined which implement the Entrez object of Biopython:\n",
    "- `search` : searches the Pubmed database with a query term and maximum number of hits. A list of Pubmed ID's is returned.\n",
    "- `pullarticles` : takes the ID list (and the name of a SQLite database already set up with an `articles` table) and pulls all Pubmed articles that have an abstract and stores them in the database.\n",
    "\n",
    "The functions are run with the search term `taste` and the database `taste.db`. "
   ]
  },
  {
   "cell_type": "code",
   "execution_count": 14,
   "metadata": {
    "collapsed": false
   },
   "outputs": [],
   "source": [
    "import sys, numpy, math, sqlite3, re\n",
    "sys.path.append('/Library/Frameworks/Python.framework/Versions/3.6/lib/python3.6/site-packages')\n",
    "from Bio import Entrez"
   ]
  },
  {
   "cell_type": "code",
   "execution_count": 64,
   "metadata": {
    "collapsed": true
   },
   "outputs": [],
   "source": [
    "def search(query,maxhits):\n",
    "    maxhits = str(maxhits)\n",
    "    Entrez.email = 'lvonbuchholtz@mail.nih.gov'\n",
    "    handle = Entrez.esearch(db='pubmed',\n",
    "                            sort='relevance',\n",
    "                            retmax=maxhits,\n",
    "                            retmode='xml',\n",
    "                            term=query)\n",
    "    \n",
    "    result = Entrez.read(handle)\n",
    "    return result['IdList']\n"
   ]
  },
  {
   "cell_type": "code",
   "execution_count": 78,
   "metadata": {
    "collapsed": true
   },
   "outputs": [],
   "source": [
    "def pullarticles(idlist,database):\n",
    "\n",
    "\n",
    "    ## since pubmed eutils return a maximum of 9975 abstracts split id list into even chunks of less than 9974\n",
    "    chunks = math.ceil(len(idlist)/9975)\n",
    "    idlist = numpy.array_split(numpy.array(idlist), chunks)\n",
    "\n",
    "    ## get database ready\n",
    "    conn = sqlite3.connect(database)\n",
    "    c = conn.cursor()\n",
    "\n",
    "    ## setup id lists\n",
    "    failed = []\n",
    "    succeded = []\n",
    "    failedindex = []\n",
    "    notitle = []\n",
    "    noabstract = []\n",
    "    noabstracttext = []\n",
    "    nojournal = []\n",
    "    nodate = []\n",
    "    noyear = []\n",
    "    nomonth = []\n",
    "    noday = []\n",
    "\n",
    "    ## pull full information from pubmed in chunks of less than 9975\n",
    "\n",
    "    for i in range(chunks):\n",
    "        ids = ','.join(idlist[i])\n",
    "        Entrez.email = 'lvonbuchholtz@mail.nih.gov'\n",
    "        handle = Entrez.efetch(db='pubmed',\n",
    "                               retmode='xml',\n",
    "                               id=ids)\n",
    "        papers = Entrez.read(handle)\n",
    "\n",
    "\n",
    "        for j, paper in enumerate(papers['PubmedArticle']):\n",
    "            pmid = int(paper['MedlineCitation']['PMID'])\n",
    "            try:\n",
    "                article = paper['MedlineCitation']['Article']\n",
    "\n",
    "                if 'Abstract' in article:\n",
    "                    abstract = paper['MedlineCitation']['Article']['Abstract']\n",
    "\n",
    "                    if 'ArticleTitle' in article:\n",
    "                        title = article['ArticleTitle'];\n",
    "                    else:\n",
    "                        title = 'None'\n",
    "                        notitle.append(pmid)\n",
    "\n",
    "                    if 'AbstractText' in abstract:\n",
    "                        abstracttext = abstract['AbstractText'][0]\n",
    "                    else:\n",
    "                        abstracttext = 'None'\n",
    "                        noabstracttext.append(pmid)\n",
    "\n",
    "                    if 'Journal' in article:\n",
    "                        journal = article['Journal']['Title']\n",
    "                    else:\n",
    "                        journal = 'None'\n",
    "                        nojournal.append(pmid)\n",
    "                        \n",
    "                    if 'DateCreated' in paper['MedlineCitation']:\n",
    "                        date = paper['MedlineCitation']['DateCreated']\n",
    "                        if 'Year' in date:\n",
    "                            year = int(date['Year'])\n",
    "                        else:\n",
    "                            year = 0\n",
    "                            noyear.append(pmid)\n",
    "                        if 'Month' in date:\n",
    "                            month = int(date['Month'])\n",
    "                        else:\n",
    "                            month = 0\n",
    "                            nomonth.append(pmid)\n",
    "                        if 'Day' in date:\n",
    "                            day = int(date['Day'])\n",
    "                        else:\n",
    "                            day = 0\n",
    "                            noday.append(pmid)\n",
    "                    else:\n",
    "                        year = 0\n",
    "                        month = 0\n",
    "                        day = 0\n",
    "                        nodate.append(pmid)\n",
    "                        \n",
    "                    c.execute(\"INSERT OR REPLACE INTO articles VALUES (?,?,?,?,?,?,?)\",\n",
    "                              (pmid, title, abstracttext, journal,year,month,day))\n",
    "                    succeded.append(pmid)\n",
    "\n",
    "                else:\n",
    "                    noabstract.append(pmid)\n",
    "\n",
    "            except:\n",
    "                failedindex.append(j)\n",
    "                failed.append(pmid)\n",
    "\n",
    "    print(len(failed), \" attempts failed\", )\n",
    "    print(len(succeded), \" attempts succeded\", )\n",
    "    print(len(noabstract), \" attempts had no abstract\", )\n",
    "    print(len(noabstracttext), \" attempts had abstract but no abstract text\", )\n",
    "    print(len(nojournal), \" attempts had no journal\", )\n",
    "    print(len(notitle), \" attempts had no title\", )\n",
    "    print(len(nodate), \" attempts had no date\", )\n",
    "    print(len(noyear), \" attempts had no year\", )\n",
    "    print(len(nomonth), \" attempts had no month\", )\n",
    "    print(len(noday), \" attempts had no day\", )\n",
    "    \n",
    "    conn.commit()\n",
    "    return succeded\n",
    "\n"
   ]
  },
  {
   "cell_type": "code",
   "execution_count": 79,
   "metadata": {
    "collapsed": false
   },
   "outputs": [
    {
     "name": "stdout",
     "output_type": "stream",
     "text": [
      "34448 ids received\n",
      "0  attempts failed\n",
      "28694  attempts succeded\n",
      "5700  attempts had no abstract\n",
      "0  attempts had abstract but no abstract text\n",
      "0  attempts had no journal\n",
      "0  attempts had no title\n",
      "0  attempts had no date\n",
      "0  attempts had no year\n",
      "0  attempts had no month\n",
      "0  attempts had no day\n",
      "finished\n"
     ]
    }
   ],
   "source": [
    "if __name__ == '__main__':\n",
    "    idlist = search('taste',40000)\n",
    "    print(len(idlist), \"ids received\")\n",
    "    succeded = pullarticles(idlist,'taste.db')\n",
    "    print(\"finished\")"
   ]
  },
  {
   "cell_type": "markdown",
   "metadata": {},
   "source": [
    "Some more functions to write and read all Pubmed ID's to/from a text file:"
   ]
  },
  {
   "cell_type": "code",
   "execution_count": 81,
   "metadata": {
    "collapsed": false
   },
   "outputs": [],
   "source": [
    "## get all pmids from database\n",
    "def getallpmids(database):\n",
    "\n",
    "    conn = sqlite3.connect(database)\n",
    "    c = conn.cursor()\n",
    "    c.execute('''SELECT pmid FROM articles''')\n",
    "    pmids = c.fetchall()\n",
    "    conn.close()\n",
    "    return pmids\n",
    "\n",
    "## get all pmids from database and write them to textfile\n",
    "def writeallpmidstofile(database,filename):\n",
    "    idlist = getallpmids(database)\n",
    "    with open(filename, 'w') as idfile:\n",
    "        for item in idlist:\n",
    "            idfile.write(\"%s\\n\" % item)\n",
    "\n",
    "def readpmidsfromfile(filename):\n",
    "    with open(filename) as f:\n",
    "        lines = f.read().splitlines()\n",
    "    return lines\n"
   ]
  },
  {
   "cell_type": "code",
   "execution_count": 83,
   "metadata": {
    "collapsed": false
   },
   "outputs": [],
   "source": [
    "writeallpmidstofile('taste.db','allpmids.txt')"
   ]
  },
  {
   "cell_type": "markdown",
   "metadata": {},
   "source": [
    "## Make Gene List from Synonyms in public databases\n",
    "\n",
    "Mouse gene synonym data was downloaded from MGI (http://www.informatics.jax.org/downloads/reports/MRK_List2.rpt) and parsed into a table `synonympairs` in the 'taste.db' SQLite database. Human genes could be found here:\n",
    "http://www.genenames.org/cgi-bin/download?col=gd_hgnc_id&col=gd_app_sym&col=gd_app_name&col=gd_status&col=gd_prev_sym&col=gd_aliases&col=gd_pub_chrom_map&status=Approved&status=Entry+Withdrawn&status_opt=2&where=&order_by=gd_app_sym_sort&format=text&limit=&hgnc_dbtag=on&submit=submit"
   ]
  },
  {
   "cell_type": "code",
   "execution_count": 19,
   "metadata": {
    "collapsed": false
   },
   "outputs": [],
   "source": [
    "## from a list of mouse genetic markers downloaded from MGI repository at jax,\n",
    "## http://www.informatics.jax.org/downloads/reports/MRK_List2.rpt,\n",
    "## extract all synonyms for a given gene, these include the genesymbol, the gene name and alternative synonyms\n",
    "## then write synonym/gene pairs to the table 'synonympairs' in the database\n",
    "    \n",
    "import re\n",
    "\n",
    "with open('mouse.txt') as f: \n",
    "    content = f.readlines()\n",
    "    \n",
    "## get database ready\n",
    "conn = sqlite3.connect('taste.db')\n",
    "c = conn.cursor()\n",
    "    \n",
    "splitlines = [re.split('\\t',line.rstrip()) for line in content]\n",
    "for line in splitlines:\n",
    "    if line[10] == 'protein coding gene':\n",
    "        genesymbol = line[6]\n",
    "        c.execute(\"INSERT OR REPLACE INTO synonympairs VALUES (?,?)\",(genesymbol, genesymbol))\n",
    "        genename = line[8]\n",
    "        c.execute(\"INSERT OR REPLACE INTO synonympairs VALUES (?,?)\",(genename, genesymbol))\n",
    "        if len(line) > 11:\n",
    "            synonyms = re.split('\\|',line[11])\n",
    "            for synonym in synonyms:\n",
    "                c.execute(\"INSERT OR REPLACE INTO synonympairs VALUES (?,?)\",(synonym, genesymbol))\n",
    "        \n",
    "        \n",
    "conn.commit()\n",
    "conn.close()"
   ]
  },
  {
   "cell_type": "code",
   "execution_count": 21,
   "metadata": {
    "collapsed": false
   },
   "outputs": [],
   "source": [
    "\n"
   ]
  },
  {
   "cell_type": "code",
   "execution_count": null,
   "metadata": {
    "collapsed": false
   },
   "outputs": [],
   "source": []
  },
  {
   "cell_type": "code",
   "execution_count": null,
   "metadata": {
    "collapsed": true
   },
   "outputs": [],
   "source": []
  }
 ],
 "metadata": {
  "kernelspec": {
   "display_name": "Python 3",
   "language": "python",
   "name": "python3"
  }
 },
 "nbformat": 4,
 "nbformat_minor": 2
}
