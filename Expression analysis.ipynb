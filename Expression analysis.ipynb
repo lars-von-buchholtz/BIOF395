{
 "cells": [
  {
   "cell_type": "markdown",
   "metadata": {},
   "source": [
    "## Expression Analysis\n",
    "\n",
    "From a list of Pubmed ID's that were exported from R as a textfile and that represent the abstracts in the 'taste bud' category, the abstracts are pulled from the SQLite database, tokenized, stemmed and filtered for the word stem 'express'."
   ]
  },
  {
   "cell_type": "code",
   "execution_count": 29,
   "metadata": {
    "collapsed": true
   },
   "outputs": [],
   "source": [
    "import sys, numpy, math, sqlite3, re, nltk\n",
    "from nltk.stem.porter import *"
   ]
  },
  {
   "cell_type": "code",
   "execution_count": 189,
   "metadata": {
    "collapsed": false
   },
   "outputs": [],
   "source": [
    "def readpmidsfromfile(filename):\n",
    "    with open(filename) as f:\n",
    "        lines = f.read().splitlines()\n",
    "    return lines\n",
    "\n",
    "def tokenize(abstracts):\n",
    "    import nltk\n",
    "    import re\n",
    "    \n",
    "    # first tokenize by sentence, then by word\n",
    "    \n",
    "    result = {pmid:[[word.lower() for word in nltk.word_tokenize(sent)] for sent in nltk.sent_tokenize(abstract)] for pmid,abstract in abstracts.items()}\n",
    "    return result\n",
    "\n",
    "\n",
    "## from a list of ids concatenate all titles and abstracts from database taste.db as one word list\n",
    "def getabstracts(idlist):\n",
    "\n",
    "    conn = sqlite3.connect('taste.db')\n",
    "    c = conn.cursor()\n",
    "\n",
    "\n",
    "    abstracts = dict()\n",
    "\n",
    "    for pmid in idlist:\n",
    "        c.execute('''SELECT title,abstract FROM articles WHERE pmid = (?)''', (pmid,))\n",
    "        result = c.fetchone()\n",
    "        abstracts[pmid] = \".\".join(result)\n",
    "    conn.close()\n",
    "    return abstracts\n",
    "\n",
    "\n",
    "def stem(abstracts):\n",
    "    \n",
    "    stemmer = PorterStemmer()\n",
    "    result = {pmid:[[sentence,[stemmer.stem(token) for token in sentence]] for sentence in abstract] for pmid,abstract in abstracts.items()}\n",
    "    return result\n",
    "\n",
    "def filterforterm(abstracts,term):\n",
    "    result = {pmid:[sentence[0] for sentence in abstract if term in sentence[1]] for pmid,abstract in abstracts.items()}\n",
    "    result = {pmid:abstract for pmid,abstract in result.items() if len(abstract)>0}\n",
    "    return result\n",
    "    "
   ]
  },
  {
   "cell_type": "code",
   "execution_count": 190,
   "metadata": {
    "collapsed": false
   },
   "outputs": [],
   "source": [
    "ids = readpmidsfromfile('tastebudpmids.txt')\n",
    "abstracts = getabstracts(ids)\n",
    "tokenizedabstracts = tokenize(abstracts)\n",
    "stemmedabstracts = stem(tokenizedabstracts)\n",
    "expressionabstracts = filterforterm(stemmedabstracts,'express')"
   ]
  },
  {
   "cell_type": "code",
   "execution_count": 192,
   "metadata": {
    "collapsed": false
   },
   "outputs": [
    {
     "data": {
      "text/plain": [
       "1054"
      ]
     },
     "execution_count": 192,
     "metadata": {},
     "output_type": "execute_result"
    }
   ],
   "source": [
    "len(expressionabstracts)"
   ]
  },
  {
   "cell_type": "markdown",
   "metadata": {},
   "source": [
    "So, 1054 'taste bud' abstracts contain sentences with variations of the word 'express'. \n",
    "Then, the mouse gene symbol/synonym data is loaded from the SQLite database into a dictionary."
   ]
  },
  {
   "cell_type": "code",
   "execution_count": 181,
   "metadata": {
    "collapsed": false
   },
   "outputs": [
    {
     "data": {
      "text/plain": [
       "<function Connection.close>"
      ]
     },
     "execution_count": 181,
     "metadata": {},
     "output_type": "execute_result"
    }
   ],
   "source": [
    "\n",
    "conn = sqlite3.connect('taste.db')\n",
    "c = conn.cursor()\n",
    "c.execute('SELECT * FROM synonympairs')\n",
    "\n",
    "data = c.fetchall()\n",
    "genedict = dict([(item.lower() for item in pair) for pair in data])\n",
    "\n",
    "conn.close\n",
    "\n",
    "    "
   ]
  },
  {
   "cell_type": "code",
   "execution_count": 182,
   "metadata": {
    "collapsed": false
   },
   "outputs": [
    {
     "data": {
      "text/plain": [
       "85719"
      ]
     },
     "execution_count": 182,
     "metadata": {},
     "output_type": "execute_result"
    }
   ],
   "source": [
    "len(genedict.values())\n"
   ]
  },
  {
   "cell_type": "code",
   "execution_count": 183,
   "metadata": {
    "collapsed": false
   },
   "outputs": [
    {
     "data": {
      "text/plain": [
       "22934"
      ]
     },
     "execution_count": 183,
     "metadata": {},
     "output_type": "execute_result"
    }
   ],
   "source": [
    "len(set(genedict.values()))\n"
   ]
  },
  {
   "cell_type": "code",
   "execution_count": 184,
   "metadata": {
    "collapsed": false
   },
   "outputs": [
    {
     "data": {
      "text/plain": [
       "85719"
      ]
     },
     "execution_count": 184,
     "metadata": {},
     "output_type": "execute_result"
    }
   ],
   "source": [
    "len(set(genedict.keys()))"
   ]
  },
  {
   "cell_type": "markdown",
   "metadata": {},
   "source": [
    "A function `findgenes` is defined that generates a list of gene symbol/Pubmed ID tuples after removing stopwords that were hand-picked and that, in this context, likely don't represent genes. 750 Gene/abstract pairs were identified. Consolidation of the list reveals a set of 334 unique genes mentioned in these abstracts. The most strongly represented genes are mentioned in up to 39 abstracts."
   ]
  },
  {
   "cell_type": "code",
   "execution_count": 257,
   "metadata": {
    "collapsed": false
   },
   "outputs": [],
   "source": [
    "def findgenes(abstractdict,genedict):\n",
    "    stopwords = ('minor','fish','to','now','men','a','white','no','eng','peripheral','lobe','aim','tip','rest','in','striated','ii','so','be','was','4','great','light','mice','spatial','ctx','cub','acts','g','as','not','do','via','pole','fat','adipose','e','we','k','olfactory','t','p','pig','ct','salt','olfactory','b','skin','an','out','gut','can','damage','act',)\n",
    "    expdict = list()\n",
    "    for pmid in abstractdict:\n",
    "        expgenes = [list(filter(lambda x: x in genedict.keys(),sentence)) for sentence in abstractdict[pmid]]\n",
    "        expgenes = [[token for token in sent if token not in stopwords] for sent in expgenes]\n",
    "        expgenes = expgenes[0]\n",
    "        expgenes = set([genedict[gene] for gene in expgenes])\n",
    "        for gene in expgenes:\n",
    "            expdict.append((gene,pmid))\n",
    "    return expdict"
   ]
  },
  {
   "cell_type": "code",
   "execution_count": 259,
   "metadata": {
    "collapsed": false
   },
   "outputs": [],
   "source": [
    "geneabstractpairs = findgenes(expressionabstracts,genedict)"
   ]
  },
  {
   "cell_type": "code",
   "execution_count": 261,
   "metadata": {
    "collapsed": false
   },
   "outputs": [
    {
     "data": {
      "text/plain": [
       "750"
      ]
     },
     "execution_count": 261,
     "metadata": {},
     "output_type": "execute_result"
    }
   ],
   "source": [
    "len(geneabstractpairs)"
   ]
  },
  {
   "cell_type": "code",
   "execution_count": 272,
   "metadata": {
    "collapsed": false
   },
   "outputs": [],
   "source": [
    "from collections import Counter\n",
    "countedgenes = Counter([pair[0] for pair in geneabstractpairs])\n",
    "\n",
    "import operator\n",
    "\n",
    "sortedgenes = sorted(countedgenes.items(), key=operator.itemgetter(1),reverse = True)"
   ]
  },
  {
   "cell_type": "code",
   "execution_count": 268,
   "metadata": {
    "collapsed": false
   },
   "outputs": [
    {
     "data": {
      "text/plain": [
       "334"
      ]
     },
     "execution_count": 268,
     "metadata": {},
     "output_type": "execute_result"
    }
   ],
   "source": [
    "len(sortedgenes)"
   ]
  },
  {
   "cell_type": "code",
   "execution_count": 271,
   "metadata": {
    "collapsed": false
   },
   "outputs": [
    {
     "data": {
      "text/html": [
       "<div>\n",
       "<table border=\"1\" class=\"dataframe\">\n",
       "  <thead>\n",
       "    <tr style=\"text-align: right;\">\n",
       "      <th></th>\n",
       "      <th>gene</th>\n",
       "      <th>count</th>\n",
       "    </tr>\n",
       "  </thead>\n",
       "  <tbody>\n",
       "    <tr>\n",
       "      <th>0</th>\n",
       "      <td>tas1r3</td>\n",
       "      <td>39</td>\n",
       "    </tr>\n",
       "    <tr>\n",
       "      <th>1</th>\n",
       "      <td>gnat3</td>\n",
       "      <td>34</td>\n",
       "    </tr>\n",
       "    <tr>\n",
       "      <th>2</th>\n",
       "      <td>trpm5</td>\n",
       "      <td>27</td>\n",
       "    </tr>\n",
       "    <tr>\n",
       "      <th>3</th>\n",
       "      <td>bdnf</td>\n",
       "      <td>21</td>\n",
       "    </tr>\n",
       "    <tr>\n",
       "      <th>4</th>\n",
       "      <td>tas1r2</td>\n",
       "      <td>20</td>\n",
       "    </tr>\n",
       "    <tr>\n",
       "      <th>5</th>\n",
       "      <td>krt71</td>\n",
       "      <td>16</td>\n",
       "    </tr>\n",
       "    <tr>\n",
       "      <th>6</th>\n",
       "      <td>shh</td>\n",
       "      <td>13</td>\n",
       "    </tr>\n",
       "    <tr>\n",
       "      <th>7</th>\n",
       "      <td>tbpl1</td>\n",
       "      <td>13</td>\n",
       "    </tr>\n",
       "    <tr>\n",
       "      <th>8</th>\n",
       "      <td>tas1r1</td>\n",
       "      <td>12</td>\n",
       "    </tr>\n",
       "    <tr>\n",
       "      <th>9</th>\n",
       "      <td>cd36</td>\n",
       "      <td>12</td>\n",
       "    </tr>\n",
       "    <tr>\n",
       "      <th>10</th>\n",
       "      <td>pkd2l1</td>\n",
       "      <td>12</td>\n",
       "    </tr>\n",
       "    <tr>\n",
       "      <th>11</th>\n",
       "      <td>lep</td>\n",
       "      <td>10</td>\n",
       "    </tr>\n",
       "    <tr>\n",
       "      <th>12</th>\n",
       "      <td>trpv1</td>\n",
       "      <td>9</td>\n",
       "    </tr>\n",
       "    <tr>\n",
       "      <th>13</th>\n",
       "      <td>gcg</td>\n",
       "      <td>8</td>\n",
       "    </tr>\n",
       "    <tr>\n",
       "      <th>14</th>\n",
       "      <td>ffar4</td>\n",
       "      <td>8</td>\n",
       "    </tr>\n",
       "    <tr>\n",
       "      <th>15</th>\n",
       "      <td>slc5a1</td>\n",
       "      <td>8</td>\n",
       "    </tr>\n",
       "    <tr>\n",
       "      <th>16</th>\n",
       "      <td>ncam1</td>\n",
       "      <td>7</td>\n",
       "    </tr>\n",
       "    <tr>\n",
       "      <th>17</th>\n",
       "      <td>ntf3</td>\n",
       "      <td>7</td>\n",
       "    </tr>\n",
       "    <tr>\n",
       "      <th>18</th>\n",
       "      <td>nr3c1</td>\n",
       "      <td>7</td>\n",
       "    </tr>\n",
       "    <tr>\n",
       "      <th>19</th>\n",
       "      <td>ntf5</td>\n",
       "      <td>7</td>\n",
       "    </tr>\n",
       "    <tr>\n",
       "      <th>20</th>\n",
       "      <td>ntrk2</td>\n",
       "      <td>6</td>\n",
       "    </tr>\n",
       "    <tr>\n",
       "      <th>21</th>\n",
       "      <td>pgp</td>\n",
       "      <td>6</td>\n",
       "    </tr>\n",
       "    <tr>\n",
       "      <th>22</th>\n",
       "      <td>sox2</td>\n",
       "      <td>6</td>\n",
       "    </tr>\n",
       "    <tr>\n",
       "      <th>23</th>\n",
       "      <td>ffar1</td>\n",
       "      <td>6</td>\n",
       "    </tr>\n",
       "    <tr>\n",
       "      <th>24</th>\n",
       "      <td>ascl1</td>\n",
       "      <td>5</td>\n",
       "    </tr>\n",
       "    <tr>\n",
       "      <th>25</th>\n",
       "      <td>fos</td>\n",
       "      <td>5</td>\n",
       "    </tr>\n",
       "    <tr>\n",
       "      <th>26</th>\n",
       "      <td>pkd1l3</td>\n",
       "      <td>5</td>\n",
       "    </tr>\n",
       "    <tr>\n",
       "      <th>27</th>\n",
       "      <td>smpd1</td>\n",
       "      <td>5</td>\n",
       "    </tr>\n",
       "    <tr>\n",
       "      <th>28</th>\n",
       "      <td>casr</td>\n",
       "      <td>5</td>\n",
       "    </tr>\n",
       "    <tr>\n",
       "      <th>29</th>\n",
       "      <td>itpr3</td>\n",
       "      <td>4</td>\n",
       "    </tr>\n",
       "    <tr>\n",
       "      <th>...</th>\n",
       "      <td>...</td>\n",
       "      <td>...</td>\n",
       "    </tr>\n",
       "    <tr>\n",
       "      <th>304</th>\n",
       "      <td>itgb1</td>\n",
       "      <td>1</td>\n",
       "    </tr>\n",
       "    <tr>\n",
       "      <th>305</th>\n",
       "      <td>gzma</td>\n",
       "      <td>1</td>\n",
       "    </tr>\n",
       "    <tr>\n",
       "      <th>306</th>\n",
       "      <td>nucb2</td>\n",
       "      <td>1</td>\n",
       "    </tr>\n",
       "    <tr>\n",
       "      <th>307</th>\n",
       "      <td>ano1</td>\n",
       "      <td>1</td>\n",
       "    </tr>\n",
       "    <tr>\n",
       "      <th>308</th>\n",
       "      <td>ano2</td>\n",
       "      <td>1</td>\n",
       "    </tr>\n",
       "    <tr>\n",
       "      <th>309</th>\n",
       "      <td>kcnj2</td>\n",
       "      <td>1</td>\n",
       "    </tr>\n",
       "    <tr>\n",
       "      <th>310</th>\n",
       "      <td>baat</td>\n",
       "      <td>1</td>\n",
       "    </tr>\n",
       "    <tr>\n",
       "      <th>311</th>\n",
       "      <td>nsf</td>\n",
       "      <td>1</td>\n",
       "    </tr>\n",
       "    <tr>\n",
       "      <th>312</th>\n",
       "      <td>gria2</td>\n",
       "      <td>1</td>\n",
       "    </tr>\n",
       "    <tr>\n",
       "      <th>313</th>\n",
       "      <td>tas2r109</td>\n",
       "      <td>1</td>\n",
       "    </tr>\n",
       "    <tr>\n",
       "      <th>314</th>\n",
       "      <td>tas2r144</td>\n",
       "      <td>1</td>\n",
       "    </tr>\n",
       "    <tr>\n",
       "      <th>315</th>\n",
       "      <td>scn2b</td>\n",
       "      <td>1</td>\n",
       "    </tr>\n",
       "    <tr>\n",
       "      <th>316</th>\n",
       "      <td>tg</td>\n",
       "      <td>1</td>\n",
       "    </tr>\n",
       "    <tr>\n",
       "      <th>317</th>\n",
       "      <td>ets1</td>\n",
       "      <td>1</td>\n",
       "    </tr>\n",
       "    <tr>\n",
       "      <th>318</th>\n",
       "      <td>sars</td>\n",
       "      <td>1</td>\n",
       "    </tr>\n",
       "    <tr>\n",
       "      <th>319</th>\n",
       "      <td>dpp4</td>\n",
       "      <td>1</td>\n",
       "    </tr>\n",
       "    <tr>\n",
       "      <th>320</th>\n",
       "      <td>asic3</td>\n",
       "      <td>1</td>\n",
       "    </tr>\n",
       "    <tr>\n",
       "      <th>321</th>\n",
       "      <td>bcl11b</td>\n",
       "      <td>1</td>\n",
       "    </tr>\n",
       "    <tr>\n",
       "      <th>322</th>\n",
       "      <td>rtp1</td>\n",
       "      <td>1</td>\n",
       "    </tr>\n",
       "    <tr>\n",
       "      <th>323</th>\n",
       "      <td>adcy3</td>\n",
       "      <td>1</td>\n",
       "    </tr>\n",
       "    <tr>\n",
       "      <th>324</th>\n",
       "      <td>reep1</td>\n",
       "      <td>1</td>\n",
       "    </tr>\n",
       "    <tr>\n",
       "      <th>325</th>\n",
       "      <td>rtp2</td>\n",
       "      <td>1</td>\n",
       "    </tr>\n",
       "    <tr>\n",
       "      <th>326</th>\n",
       "      <td>rac1</td>\n",
       "      <td>1</td>\n",
       "    </tr>\n",
       "    <tr>\n",
       "      <th>327</th>\n",
       "      <td>pomc</td>\n",
       "      <td>1</td>\n",
       "    </tr>\n",
       "    <tr>\n",
       "      <th>328</th>\n",
       "      <td>trpv6</td>\n",
       "      <td>1</td>\n",
       "    </tr>\n",
       "    <tr>\n",
       "      <th>329</th>\n",
       "      <td>gpx1</td>\n",
       "      <td>1</td>\n",
       "    </tr>\n",
       "    <tr>\n",
       "      <th>330</th>\n",
       "      <td>sod1</td>\n",
       "      <td>1</td>\n",
       "    </tr>\n",
       "    <tr>\n",
       "      <th>331</th>\n",
       "      <td>pgr</td>\n",
       "      <td>1</td>\n",
       "    </tr>\n",
       "    <tr>\n",
       "      <th>332</th>\n",
       "      <td>shbg</td>\n",
       "      <td>1</td>\n",
       "    </tr>\n",
       "    <tr>\n",
       "      <th>333</th>\n",
       "      <td>ugt2b5</td>\n",
       "      <td>1</td>\n",
       "    </tr>\n",
       "  </tbody>\n",
       "</table>\n",
       "<p>334 rows × 2 columns</p>\n",
       "</div>"
      ],
      "text/plain": [
       "         gene  count\n",
       "0      tas1r3     39\n",
       "1       gnat3     34\n",
       "2       trpm5     27\n",
       "3        bdnf     21\n",
       "4      tas1r2     20\n",
       "5       krt71     16\n",
       "6         shh     13\n",
       "7       tbpl1     13\n",
       "8      tas1r1     12\n",
       "9        cd36     12\n",
       "10     pkd2l1     12\n",
       "11        lep     10\n",
       "12      trpv1      9\n",
       "13        gcg      8\n",
       "14      ffar4      8\n",
       "15     slc5a1      8\n",
       "16      ncam1      7\n",
       "17       ntf3      7\n",
       "18      nr3c1      7\n",
       "19       ntf5      7\n",
       "20      ntrk2      6\n",
       "21        pgp      6\n",
       "22       sox2      6\n",
       "23      ffar1      6\n",
       "24      ascl1      5\n",
       "25        fos      5\n",
       "26     pkd1l3      5\n",
       "27      smpd1      5\n",
       "28       casr      5\n",
       "29      itpr3      4\n",
       "..        ...    ...\n",
       "304     itgb1      1\n",
       "305      gzma      1\n",
       "306     nucb2      1\n",
       "307      ano1      1\n",
       "308      ano2      1\n",
       "309     kcnj2      1\n",
       "310      baat      1\n",
       "311       nsf      1\n",
       "312     gria2      1\n",
       "313  tas2r109      1\n",
       "314  tas2r144      1\n",
       "315     scn2b      1\n",
       "316        tg      1\n",
       "317      ets1      1\n",
       "318      sars      1\n",
       "319      dpp4      1\n",
       "320     asic3      1\n",
       "321    bcl11b      1\n",
       "322      rtp1      1\n",
       "323     adcy3      1\n",
       "324     reep1      1\n",
       "325      rtp2      1\n",
       "326      rac1      1\n",
       "327      pomc      1\n",
       "328     trpv6      1\n",
       "329      gpx1      1\n",
       "330      sod1      1\n",
       "331       pgr      1\n",
       "332      shbg      1\n",
       "333    ugt2b5      1\n",
       "\n",
       "[334 rows x 2 columns]"
      ]
     },
     "execution_count": 271,
     "metadata": {},
     "output_type": "execute_result"
    }
   ],
   "source": [
    "import pandas as pd\n",
    "df = pd.DataFrame(sortedgenes)\n",
    "df.columns = ['gene','count']\n",
    "df"
   ]
  },
  {
   "cell_type": "code",
   "execution_count": 273,
   "metadata": {
    "collapsed": true
   },
   "outputs": [],
   "source": [
    "df.to_csv('tastegenes.csv', sep=',', encoding='utf-8')"
   ]
  },
  {
   "cell_type": "code",
   "execution_count": null,
   "metadata": {
    "collapsed": true
   },
   "outputs": [],
   "source": []
  }
 ],
 "metadata": {
  "kernelspec": {
   "display_name": "Python 3",
   "language": "python",
   "name": "python3"
  },
  "language_info": {
   "codemirror_mode": {
    "name": "ipython",
    "version": 3
   },
   "file_extension": ".py",
   "mimetype": "text/x-python",
   "name": "python",
   "nbconvert_exporter": "python",
   "pygments_lexer": "ipython3",
   "version": "3.6.0"
  }
 },
 "nbformat": 4,
 "nbformat_minor": 2
}
